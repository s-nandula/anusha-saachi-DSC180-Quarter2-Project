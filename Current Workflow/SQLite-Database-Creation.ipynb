{
 "cells": [
  {
   "cell_type": "code",
   "execution_count": 8,
   "id": "3bf53809",
   "metadata": {},
   "outputs": [],
   "source": [
    "import numpy as np\n",
    "import pandas as pd\n",
    "import os\n",
    "import langchain\n",
    "import lxml\n",
    "from lxml import etree\n",
    "from bs4 import BeautifulSoup\n",
    "import sqlite3\n",
    "import xml.etree.ElementTree as ET\n",
    "from gensim.utils import simple_preprocess\n",
    "from gensim.corpora.dictionary import Dictionary\n",
    "from gensim.models import TfidfModel\n",
    "from gensim import similarities\n",
    "import sentence_transformers"
   ]
  },
  {
   "cell_type": "code",
   "execution_count": 9,
   "id": "c24e10ec",
   "metadata": {},
   "outputs": [],
   "source": [
    "# path to data\n",
    "data = 'data/All_Publications_Part_1/'"
   ]
  },
  {
   "cell_type": "code",
   "execution_count": 10,
   "id": "41da696c",
   "metadata": {},
   "outputs": [],
   "source": [
    "# getting the data\n",
    "input_files = os.listdir(data)"
   ]
  },
  {
   "cell_type": "code",
   "execution_count": 11,
   "id": "ac27edbb",
   "metadata": {},
   "outputs": [],
   "source": [
    "# function to strip html tags from text portion\n",
    "def strip_html_tags(text):\n",
    "    stripped = BeautifulSoup(text).get_text().replace('\\n', ' ').replace('\\\\', '').strip()\n",
    "    return stripped"
   ]
  },
  {
   "cell_type": "code",
   "execution_count": 12,
   "id": "3c02bb8f",
   "metadata": {},
   "outputs": [],
   "source": [
    "# connect to SQLite Database\n",
    "conn = sqlite3.connect('subset_data.db')\n",
    "cursor = conn.cursor()"
   ]
  },
  {
   "cell_type": "code",
   "execution_count": 13,
   "id": "9b08c676",
   "metadata": {},
   "outputs": [],
   "source": [
    "# creates a table with the selected fields\n",
    "cursor.execute('''\n",
    "    CREATE TABLE IF NOT EXISTS subset_table (\n",
    "        goid INTEGER PRIMARY KEY,\n",
    "        title TEXT,\n",
    "        date TEXT,\n",
    "        publication TEXT,\n",
    "        text TEXT\n",
    "    )\n",
    "''')\n",
    "conn.commit()"
   ]
  },
  {
   "cell_type": "code",
   "execution_count": 15,
   "id": "3d0a6f11",
   "metadata": {},
   "outputs": [],
   "source": [
    "def insert_data_from_xml(xml_file):\n",
    "    tree = ET.parse(xml_file)\n",
    "    root = tree.getroot()\n",
    "\n",
    "    goid = root.find('.//GOID').text if root.find('.//GOID') is not None else None\n",
    "    title = root.find('.//Title').text if root.find('.//Title') is not None else None\n",
    "    date = root.find('.//NumericDate').text if root.find('.//NumericDate') is not None else None\n",
    "    publication = root.find('.//PublisherName').text if root.find('.//PublisherName') is not None else None\n",
    "\n",
    "    if root.find('.//FullText') is not None:\n",
    "        text = root.find('.//FullText').text\n",
    "\n",
    "    elif root.find('.//HiddenText') is not None:\n",
    "        text = root.find('.//HiddenText').text\n",
    "\n",
    "    elif root.find('.//Text') is not None:\n",
    "        text = root.find('.//Text').text\n",
    "\n",
    "    else:\n",
    "        text = None\n",
    "\n",
    "    if text is not None:\n",
    "        text = strip_html_tags(text)\n",
    "    \n",
    "    # insert data into SQLite\n",
    "    cursor.execute('''\n",
    "        INSERT INTO subset_table (goid, title, date, publication, text)\n",
    "        VALUES (?, ?, ?, ?, ?)\n",
    "    ''', (goid, title, date, publication, text))\n",
    "\n",
    "# directory containing XML files\n",
    "xml_directory = data\n",
    "\n",
    "# iterate through XML files in the directory and insert data into SQLite\n",
    "for filename in os.listdir(xml_directory):\n",
    "    if filename.endswith('.xml'):\n",
    "        xml_file_path = os.path.join(xml_directory, filename)\n",
    "        insert_data_from_xml(xml_file_path)\n",
    "\n",
    "# commit changes and close the database connection\n",
    "conn.commit()\n",
    "conn.close()"
   ]
  }
 ],
 "metadata": {
  "kernelspec": {
   "display_name": "my_py",
   "language": "python",
   "name": "my_py"
  },
  "language_info": {
   "codemirror_mode": {
    "name": "ipython",
    "version": 3
   },
   "file_extension": ".py",
   "mimetype": "text/x-python",
   "name": "python",
   "nbconvert_exporter": "python",
   "pygments_lexer": "ipython3",
   "version": "3.8.18"
  }
 },
 "nbformat": 4,
 "nbformat_minor": 5
}
