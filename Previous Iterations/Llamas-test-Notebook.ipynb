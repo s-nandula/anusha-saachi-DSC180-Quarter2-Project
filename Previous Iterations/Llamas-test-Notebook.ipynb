{
 "cells": [
  {
   "cell_type": "code",
   "execution_count": 1,
   "id": "846aaa67",
   "metadata": {},
   "outputs": [
    {
     "name": "stderr",
     "output_type": "stream",
     "text": [
      "/home/ec2-user/SageMaker/.conda/envs/cuda12.2/lib/python3.12/site-packages/tqdm/auto.py:21: TqdmWarning: IProgress not found. Please update jupyter and ipywidgets. See https://ipywidgets.readthedocs.io/en/stable/user_install.html\n",
      "  from .autonotebook import tqdm as notebook_tqdm\n"
     ]
    }
   ],
   "source": [
    "import torch\n",
    "import transformers\n",
    "from transformers import LlamaForCausalLM, LlamaTokenizer"
   ]
  },
  {
   "cell_type": "code",
   "execution_count": 2,
   "id": "cf07bc1c",
   "metadata": {},
   "outputs": [
    {
     "name": "stderr",
     "output_type": "stream",
     "text": [
      "Loading checkpoint shards: 100%|██████████| 2/2 [00:25<00:00, 12.78s/it]\n"
     ]
    }
   ],
   "source": [
    "model_dir = 'Llama-2-7b-chat-hf/'\n",
    "model = LlamaForCausalLM.from_pretrained(model_dir)"
   ]
  },
  {
   "cell_type": "code",
   "execution_count": 3,
   "id": "d7b0946c",
   "metadata": {},
   "outputs": [],
   "source": [
    "tokenizer = LlamaTokenizer.from_pretrained(model_dir)"
   ]
  },
  {
   "cell_type": "code",
   "execution_count": 4,
   "id": "73c1d600",
   "metadata": {},
   "outputs": [],
   "source": [
    "pipeline = transformers.pipeline(\n",
    "\"text-generation\",\n",
    "\n",
    "model=model,\n",
    "\n",
    "tokenizer=tokenizer,\n",
    "\n",
    "torch_dtype=torch.float16,\n",
    "\n",
    "device_map=\"auto\",\n",
    "\n",
    ")"
   ]
  },
  {
   "cell_type": "code",
   "execution_count": 5,
   "id": "8114145f",
   "metadata": {
    "scrolled": false
   },
   "outputs": [
    {
     "name": "stderr",
     "output_type": "stream",
     "text": [
      "Truncation was not explicitly activated but `max_length` is provided a specific value, please use `truncation=True` to explicitly truncate examples to max length. Defaulting to 'longest_first' truncation strategy. If you encode pairs of sequences (GLUE-style) with the tokenizer you can select this strategy more precisely by providing a specific strategy to `truncation`.\n",
      "Keyword arguments {'add_special_tokens': False} not recognized.\n"
     ]
    },
    {
     "name": "stdout",
     "output_type": "stream",
     "text": [
      "What is the tallest building in Chicago?\n",
      "\n",
      "Answer: The tallest building in Chicago is Willis Tower (formerly known as the Sears Tower), which stands at a height of 1,451 feet (442 meters) tall.\n"
     ]
    }
   ],
   "source": [
    "sequences = pipeline(\n",
    "\"What is the tallest building in Chicago?\",\n",
    "do_sample=True,\n",
    "top_k=10,\n",
    "num_return_sequences=1,\n",
    "eos_token_id=tokenizer.eos_token_id,\n",
    "max_length=1000)\n",
    "\n",
    "for seq in sequences:\n",
    "    print(f\"{seq['generated_text']}\")"
   ]
  },
  {
   "cell_type": "code",
   "execution_count": 6,
   "id": "6878fdb5",
   "metadata": {},
   "outputs": [],
   "source": [
    "str1 = \"York In no coun try of Europe is there greater in terest in American designing than in Germany There at the present moment large exhibition of Amer ican architecture is being shown Sharing in this exhibition are about eighteen American architects each of whom has contributed designs of one big building and other examples of his work The exhibition will travel from town to town through out Germany and will be exhibited under the best possible conditions We hear of widespread interest in it among\""
   ]
  },
  {
   "cell_type": "code",
   "execution_count": 8,
   "id": "0bc1b68f",
   "metadata": {},
   "outputs": [],
   "source": [
    "str2 = \"just been re-elected presi dent of the institute, said yesterday that \\\"New York is the  architectural laboratory and proving ground, where that peculiarly America.n , the skyscraper, has  I been so largely developed.\\\"   \\\"Its influence is felt to the far cot--\\'~ ners of the United States,\\\" he de--I dared. \\\"An American city without i at least something in the way of a skyscraper is out of date today, regardless . of its size. Hence what New York does in--architecture is significant and matters\""
   ]
  },
  {
   "cell_type": "code",
   "execution_count": 10,
   "id": "d07e2285",
   "metadata": {},
   "outputs": [],
   "source": [
    "str3 = \"New York has made a beginning, however, and with the tremendous tempo of American life I am sure you will soon arrive at it. The most modern pieces of architecture I saw here are the River Rouge plant of Ford and the grain elevators of Chicago. And it is noteworthy that the beauty of these is born out of the starkest utility and with no conscious attempt at decoration.\""
   ]
  },
  {
   "cell_type": "code",
   "execution_count": 11,
   "id": "63c9f4f6",
   "metadata": {},
   "outputs": [],
   "source": [
    "str4 = \"what is more to the point, in music, the drama, museums and art, while the architecture that has grown up in that city the last decade, centring in the Wall Street section and including the leading canyons of Broadway, is unsurpassed.   \\\" New York has the best and the worst things in the world. It has the best opportunities for us to spend our time, and the very poorest. There are more men and women in the world who are trying to reduce physically than there are who are trying to expand'\""
   ]
  },
  {
   "cell_type": "code",
   "execution_count": 13,
   "id": "57943a96",
   "metadata": {},
   "outputs": [],
   "source": [
    "context= [str1, str2, str3, str4]"
   ]
  },
  {
   "cell_type": "code",
   "execution_count": 14,
   "id": "5c74c603",
   "metadata": {},
   "outputs": [],
   "source": [
    "total = str1 + str2+ str3+ str4"
   ]
  },
  {
   "cell_type": "code",
   "execution_count": 16,
   "id": "0c92bd75",
   "metadata": {},
   "outputs": [],
   "source": [
    "query = \"How does New York Compare to European Architecture?\""
   ]
  },
  {
   "cell_type": "code",
   "execution_count": 17,
   "id": "595995da",
   "metadata": {},
   "outputs": [],
   "source": [
    "instruction = \"You must provide only one answer, and it must be based solely on the context provided here:\""
   ]
  },
  {
   "cell_type": "code",
   "execution_count": 18,
   "id": "4ff726d7",
   "metadata": {},
   "outputs": [
    {
     "name": "stderr",
     "output_type": "stream",
     "text": [
      "Keyword arguments {'add_special_tokens': False} not recognized.\n"
     ]
    },
    {
     "name": "stdout",
     "output_type": "stream",
     "text": [
      "How does New York Compare to European Architecture?You must provide only one answer, and it must be based solely on the context provided here:York In no coun try of Europe is there greater in terest in American designing than in Germany There at the present moment large exhibition of Amer ican architecture is being shown Sharing in this exhibition are about eighteen American architects each of whom has contributed designs of one big building and other examples of his work The exhibition will travel from town to town through out Germany and will be exhibited under the best possible conditions We hear of widespread interest in it amongjust been re-elected presi dent of the institute, said yesterday that \"New York is the  architectural laboratory and proving ground, where that peculiarly America.n , the skyscraper, has  I been so largely developed.\"   \"Its influence is felt to the far cot--'~ ners of the United States,\" he de--I dared. \"An American city without i at least something in the way of a skyscraper is out of date today, regardless . of its size. Hence what New York does in--architecture is significant and mattersNew York has made a beginning, however, and with the tremendous tempo of American life I am sure you will soon arrive at it. The most modern pieces of architecture I saw here are the River Rouge plant of Ford and the grain elevators of Chicago. And it is noteworthy that the beauty of these is born out of the starkest utility and with no conscious attempt at decoration.what is more to the point, in music, the drama, museums and art, while the architecture that has grown up in that city the last decade, centring in the Wall Street section and including the leading canyons of Broadway, is unsurpassed.   \" New York has the best and the worst things in the world. It has the best opportunities for us to spend our time, and the very poorest. There are more men and women in the world who are trying to reduce physically than there are who are trying to expand' mentally. But New York is a great city because it is a place where the best and the worst are brought together.  It is a place of contrasts, of contrasts of light and shade, of contrasts of wealth and poverty. The city is like a great human being, with all the possibilities of good and evil that that implies. In New York you find the best and the worst things in the world. You find the best things in the world in the people, and the worst things in the world in the things. And the things are the worst because they are the most artificial, and because they are the most out of harmony with the rest of the world.\n"
     ]
    }
   ],
   "source": [
    "sequences = pipeline(\n",
    "query + instruction + total,\n",
    "do_sample=True,\n",
    "top_k=10,\n",
    "num_return_sequences=1,\n",
    "eos_token_id=tokenizer.eos_token_id,\n",
    "max_length=1000)\n",
    "\n",
    "for seq in sequences:\n",
    "    print(f\"{seq['generated_text']}\")"
   ]
  },
  {
   "cell_type": "code",
   "execution_count": null,
   "id": "373e2a4e",
   "metadata": {},
   "outputs": [],
   "source": []
  }
 ],
 "metadata": {
  "kernelspec": {
   "display_name": "cuda12.2",
   "language": "python",
   "name": "cuda12.2"
  },
  "language_info": {
   "codemirror_mode": {
    "name": "ipython",
    "version": 3
   },
   "file_extension": ".py",
   "mimetype": "text/x-python",
   "name": "python",
   "nbconvert_exporter": "python",
   "pygments_lexer": "ipython3",
   "version": "3.12.2"
  }
 },
 "nbformat": 4,
 "nbformat_minor": 5
}
